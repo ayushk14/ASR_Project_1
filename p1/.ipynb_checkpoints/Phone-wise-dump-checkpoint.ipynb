{
 "cells": [
  {
   "cell_type": "code",
   "execution_count": 1,
   "metadata": {},
   "outputs": [],
   "source": [
    "import pandas as pd\n",
    "import os"
   ]
  },
  {
   "cell_type": "code",
   "execution_count": 2,
   "metadata": {},
   "outputs": [],
   "source": [
    "dir_list = os.listdir('features/')"
   ]
  },
  {
   "cell_type": "code",
   "execution_count": 3,
   "metadata": {},
   "outputs": [],
   "source": [
    "label_file = open('unique_label.txt','wb')"
   ]
  },
  {
   "cell_type": "code",
   "execution_count": 4,
   "metadata": {},
   "outputs": [],
   "source": [
    "def createDict(label_list):\n",
    "    cat_dict = {}\n",
    "    for label in label_list:\n",
    "        cat_dict[label] = pd.DataFrame()\n",
    "    return cat_dict"
   ]
  },
  {
   "cell_type": "code",
   "execution_count": 5,
   "metadata": {},
   "outputs": [],
   "source": [
    "def categorizeFeatures(cat_dict, frame):\n",
    "    for i in range(len(frame)):\n",
    "        temp = frame.iloc[i]\n",
    "        s = pd.Series([temp[0],temp[1]],index=['features','labels'])\n",
    "        cat_dict[temp[1]] = cat_dict[temp[1]].append(s, ignore_index=True)\n",
    "    return cat_dict"
   ]
  },
  {
   "cell_type": "code",
   "execution_count": 6,
   "metadata": {},
   "outputs": [],
   "source": [
    "def createHDF(cat_dict, dir_name, folder):\n",
    "    for i in cat_dict:\n",
    "        if i == \"\":\n",
    "            phoneme = 'space'\n",
    "        else:\n",
    "            phoneme = i\n",
    "        \n",
    "        filename = 'features_cat/'+dir_name+'/'+folder+'/timit_'+phoneme+'.hdf'\n",
    "        cat_dict[i].to_hdf(filename, key='cat_dict', mode='w')\n",
    "        \n",
    "        label_file.write(phoneme+'\\n')"
   ]
  },
  {
   "cell_type": "code",
   "execution_count": 7,
   "metadata": {
    "scrolled": true
   },
   "outputs": [
    {
     "name": "stdout",
     "output_type": "stream",
     "text": [
      "Processing for directory-----> mfcc\n",
      "Dictionary instantiated\n"
     ]
    },
    {
     "ename": "KeyboardInterrupt",
     "evalue": "",
     "output_type": "error",
     "traceback": [
      "\u001b[0;31m---------------------------------------------------------------------------\u001b[0m",
      "\u001b[0;31mKeyboardInterrupt\u001b[0m                         Traceback (most recent call last)",
      "\u001b[0;32m<ipython-input-7-5f0e109f3a2e>\u001b[0m in \u001b[0;36m<module>\u001b[0;34m()\u001b[0m\n\u001b[1;32m     19\u001b[0m                 \u001b[0mprint\u001b[0m\u001b[0;34m(\u001b[0m\u001b[0;34m\"Dictionary instantiated\"\u001b[0m\u001b[0;34m)\u001b[0m\u001b[0;34m\u001b[0m\u001b[0m\n\u001b[1;32m     20\u001b[0m \u001b[0;34m\u001b[0m\u001b[0m\n\u001b[0;32m---> 21\u001b[0;31m                 \u001b[0mcat_dict\u001b[0m \u001b[0;34m=\u001b[0m \u001b[0mcategorizeFeatures\u001b[0m\u001b[0;34m(\u001b[0m\u001b[0mcat_dict\u001b[0m\u001b[0;34m,\u001b[0m \u001b[0mframe\u001b[0m\u001b[0;34m)\u001b[0m\u001b[0;34m\u001b[0m\u001b[0m\n\u001b[0m\u001b[1;32m     22\u001b[0m \u001b[0;34m\u001b[0m\u001b[0m\n\u001b[1;32m     23\u001b[0m                 \u001b[0mprint\u001b[0m\u001b[0;34m(\u001b[0m\u001b[0;34m\"Features categorizing done\"\u001b[0m\u001b[0;34m)\u001b[0m\u001b[0;34m\u001b[0m\u001b[0m\n",
      "\u001b[0;32m<ipython-input-5-658af9f54caf>\u001b[0m in \u001b[0;36mcategorizeFeatures\u001b[0;34m(cat_dict, frame)\u001b[0m\n\u001b[1;32m      3\u001b[0m         \u001b[0mtemp\u001b[0m \u001b[0;34m=\u001b[0m \u001b[0mframe\u001b[0m\u001b[0;34m.\u001b[0m\u001b[0miloc\u001b[0m\u001b[0;34m[\u001b[0m\u001b[0mi\u001b[0m\u001b[0;34m]\u001b[0m\u001b[0;34m\u001b[0m\u001b[0m\n\u001b[1;32m      4\u001b[0m         \u001b[0ms\u001b[0m \u001b[0;34m=\u001b[0m \u001b[0mpd\u001b[0m\u001b[0;34m.\u001b[0m\u001b[0mSeries\u001b[0m\u001b[0;34m(\u001b[0m\u001b[0;34m[\u001b[0m\u001b[0mtemp\u001b[0m\u001b[0;34m[\u001b[0m\u001b[0;36m0\u001b[0m\u001b[0;34m]\u001b[0m\u001b[0;34m,\u001b[0m\u001b[0mtemp\u001b[0m\u001b[0;34m[\u001b[0m\u001b[0;36m1\u001b[0m\u001b[0;34m]\u001b[0m\u001b[0;34m]\u001b[0m\u001b[0;34m,\u001b[0m\u001b[0mindex\u001b[0m\u001b[0;34m=\u001b[0m\u001b[0;34m[\u001b[0m\u001b[0;34m'features'\u001b[0m\u001b[0;34m,\u001b[0m\u001b[0;34m'labels'\u001b[0m\u001b[0;34m]\u001b[0m\u001b[0;34m)\u001b[0m\u001b[0;34m\u001b[0m\u001b[0m\n\u001b[0;32m----> 5\u001b[0;31m         \u001b[0mcat_dict\u001b[0m\u001b[0;34m[\u001b[0m\u001b[0mtemp\u001b[0m\u001b[0;34m[\u001b[0m\u001b[0;36m1\u001b[0m\u001b[0;34m]\u001b[0m\u001b[0;34m]\u001b[0m \u001b[0;34m=\u001b[0m \u001b[0mcat_dict\u001b[0m\u001b[0;34m[\u001b[0m\u001b[0mtemp\u001b[0m\u001b[0;34m[\u001b[0m\u001b[0;36m1\u001b[0m\u001b[0;34m]\u001b[0m\u001b[0;34m]\u001b[0m\u001b[0;34m.\u001b[0m\u001b[0mappend\u001b[0m\u001b[0;34m(\u001b[0m\u001b[0ms\u001b[0m\u001b[0;34m,\u001b[0m \u001b[0mignore_index\u001b[0m\u001b[0;34m=\u001b[0m\u001b[0;32mTrue\u001b[0m\u001b[0;34m)\u001b[0m\u001b[0;34m\u001b[0m\u001b[0m\n\u001b[0m\u001b[1;32m      6\u001b[0m     \u001b[0;32mreturn\u001b[0m \u001b[0mcat_dict\u001b[0m\u001b[0;34m\u001b[0m\u001b[0m\n",
      "\u001b[0;31mKeyboardInterrupt\u001b[0m: "
     ]
    }
   ],
   "source": [
    "for dir_item in dir_list:\n",
    "    if dir_item[0] != '.':\n",
    "        \n",
    "        print(\"Processing for directory----->\",dir_item)\n",
    "        \n",
    "        os.makedirs('features_cat/'+dir_item, exist_ok=True)\n",
    "        hdf_files = os.listdir('features/'+dir_item)\n",
    "        for file in hdf_files:\n",
    "            if file[0] != '.' and file.split('.')[0].split('_')[1]=='train':\n",
    "                folder = file.split('.')[0].split('_')[1]\n",
    "                \n",
    "                os.makedirs('features_cat/'+dir_item+'/'+folder, exist_ok=True)\n",
    "                \n",
    "                frame = pd.read_hdf('features/'+dir_item+'/'+file)\n",
    "                label_list = frame['labels'].unique().tolist()\n",
    "                \n",
    "                cat_dict = createDict(label_list)\n",
    "                \n",
    "                print(\"Dictionary instantiated\")\n",
    "                \n",
    "                cat_dict = categorizeFeatures(cat_dict, frame)\n",
    "                \n",
    "                print(\"Features categorizing done\")\n",
    "                \n",
    "                createHDF(cat_dict,dir_item,folder)\n",
    "                \n",
    "                print(\"HDF files created\")"
   ]
  },
  {
   "cell_type": "code",
   "execution_count": null,
   "metadata": {},
   "outputs": [],
   "source": []
  }
 ],
 "metadata": {
  "kernelspec": {
   "display_name": "Python 3",
   "language": "python",
   "name": "python3"
  },
  "language_info": {
   "codemirror_mode": {
    "name": "ipython",
    "version": 3
   },
   "file_extension": ".py",
   "mimetype": "text/x-python",
   "name": "python",
   "nbconvert_exporter": "python",
   "pygments_lexer": "ipython3",
   "version": "3.7.0"
  }
 },
 "nbformat": 4,
 "nbformat_minor": 2
}
